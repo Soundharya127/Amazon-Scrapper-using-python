{
  "nbformat": 4,
  "nbformat_minor": 0,
  "metadata": {
    "colab": {
      "provenance": [],
      "authorship_tag": "ABX9TyPN4oDwkUesQLhwVsDoVXDs",
      "include_colab_link": true
    },
    "kernelspec": {
      "name": "python3",
      "display_name": "Python 3"
    },
    "language_info": {
      "name": "python"
    }
  },
  "cells": [
    {
      "cell_type": "markdown",
      "metadata": {
        "id": "view-in-github",
        "colab_type": "text"
      },
      "source": [
        "<a href=\"https://colab.research.google.com/github/Soundharya127/Amazon-Scrapper-using-python/blob/main/Amazon_scrapper_py.ipynb\" target=\"_parent\"><img src=\"https://colab.research.google.com/assets/colab-badge.svg\" alt=\"Open In Colab\"/></a>"
      ]
    },
    {
      "cell_type": "code",
      "execution_count": null,
      "metadata": {
        "colab": {
          "base_uri": "https://localhost:8080/"
        },
        "id": "MN68R116pbyB",
        "outputId": "ec7934b0-38a7-448b-a924-6a7f036d6eb5"
      },
      "outputs": [
        {
          "output_type": "stream",
          "name": "stdout",
          "text": [
            "Requirement already satisfied: requests in /usr/local/lib/python3.10/dist-packages (2.32.3)\n",
            "Requirement already satisfied: beautifulsoup4 in /usr/local/lib/python3.10/dist-packages (4.12.3)\n",
            "Requirement already satisfied: charset-normalizer<4,>=2 in /usr/local/lib/python3.10/dist-packages (from requests) (3.4.0)\n",
            "Requirement already satisfied: idna<4,>=2.5 in /usr/local/lib/python3.10/dist-packages (from requests) (3.10)\n",
            "Requirement already satisfied: urllib3<3,>=1.21.1 in /usr/local/lib/python3.10/dist-packages (from requests) (2.2.3)\n",
            "Requirement already satisfied: certifi>=2017.4.17 in /usr/local/lib/python3.10/dist-packages (from requests) (2024.8.30)\n",
            "Requirement already satisfied: soupsieve>1.2 in /usr/local/lib/python3.10/dist-packages (from beautifulsoup4) (2.6)\n",
            "Requirement already satisfied: pandas in /usr/local/lib/python3.10/dist-packages (2.2.2)\n",
            "Requirement already satisfied: openpyxl in /usr/local/lib/python3.10/dist-packages (3.1.5)\n",
            "Requirement already satisfied: numpy>=1.22.4 in /usr/local/lib/python3.10/dist-packages (from pandas) (1.26.4)\n",
            "Requirement already satisfied: python-dateutil>=2.8.2 in /usr/local/lib/python3.10/dist-packages (from pandas) (2.8.2)\n",
            "Requirement already satisfied: pytz>=2020.1 in /usr/local/lib/python3.10/dist-packages (from pandas) (2024.2)\n",
            "Requirement already satisfied: tzdata>=2022.7 in /usr/local/lib/python3.10/dist-packages (from pandas) (2024.2)\n",
            "Requirement already satisfied: et-xmlfile in /usr/local/lib/python3.10/dist-packages (from openpyxl) (2.0.0)\n",
            "Requirement already satisfied: six>=1.5 in /usr/local/lib/python3.10/dist-packages (from python-dateutil>=2.8.2->pandas) (1.16.0)\n"
          ]
        }
      ],
      "source": [
        "# Install requests and beautifulsoup4\n",
        "!pip install requests beautifulsoup4\n",
        "!pip install pandas openpyxl\n"
      ]
    },
    {
      "cell_type": "code",
      "source": [
        "import requests\n",
        "from bs4 import BeautifulSoup\n",
        "import pandas as pd\n",
        "import time\n",
        "import random\n",
        "\n",
        "# Define a list of product URLs to scrape\n",
        "urls = [\n",
        "    'https://www.amazon.com/Harry-Potter-Hogwarts-Witchcraft-Stationery/dp/168383254X/ref=sr_1_51?dib=eyJ2IjoiMSJ9.CulHaaTLV62DbFBUqIjx4dp4D-q2VzaW-p7Bb57GsrD4f-dvLYDDUD_3R9PggsYCfwxQYTp1fE5EZNf7sAozQMVsGrl_RTPEaHwEWkeeNt2HjBGXIWp50wZKKQZdyMTu04bkTUbZjCOh-GcIqz88tgP9NBsoNXfYdF4uzJ_QoF50StBsWX6ptOCa9igL94bSzzFvtQ4ozLiIyM23QRzCtfGsoLnhy14G4divLqe-6Mssg4fSijaG2SfwzNRUVYy7f4MLf3mrpGzGwrHqxd1RFpzkWS4grj7F6IgAygq6jZw.CjN-f7aeLrhn45VHWsHR_EJgh8cKZBAD7RdPFChb720&dib_tag=se&keywords=stationery+things&qid=1730902967&sr=8-51',\n",
        "    'https://www.amazon.com/ACEMAGIC-17-3Inch-Core-12th-Business-Computer/dp/B0DKDV6QS6/ref=sr_1_7_sspa?crid=36PT4NPUP2U54&dib=eyJ2IjoiMSJ9.WnCwPIi0Zynhmn3G6s93UBvmVX7kkAHz9r8VVLUC_eQGvIJRm5jfFb3HKM33SywXvF3QtMZVzIWlX7UmUNBzUlGoJlrXS3Kkz-ZRR2mxfkbFHJmh5rxh3-XijGpDTkk2708dORtItl_iARloop7vGM77MqCLnE8wG3A5zu3bseA9jsFfndqzdBhhXLmjgEulrpSQjyG7Qv3UqJstm3Z5Y3jZadKq7t966v6KpA2wb2Q.RDx1DU4Cg1R941u-Bjp-B53hpSXcbPhBkx7tgDxgl8w&dib_tag=se&keywords=laptop&qid=1730904444&sprefix=desktop%2Caps%2C11315&sr=8-7-spons&sp_csd=d2lkZ2V0TmFtZT1zcF9tdGY&psc=1',\n",
        "    'https://www.amazon.com/Amazon-Essentials-Regular-Fit-Short-Sleeve-T-Shirt/dp/B09TPKDHC9/ref=sr_1_1_ffob_sspa?dib=eyJ2IjoiMSJ9.nB9K5G_Y2-758QGT2W4Z4RqnnLY-PXO_RGAOkqGj7j9seNY5XPzcQk9wj7ZZ4-I7rdLDy2eH8ZtEs28tnYoweJrTnPoGrV9i2COOu6EnpaYxSqQLDDi6gz1rnYsuMfMqQ7tr1I1wjOXo2fE7WquGdF4ValAUIjvBtAF2DLaMfqg6cXgaV34m2prLWD-fgE29BkwtNyChEDmlmmGz749QRwTgHT8USXYTulLsHQ_0nszCgld_r8EevvDCfDsaQxh5ssZo4L2G4u8Q1SuAkpUxdVvLpRIzT2Vgn2vxeJ1zz44.aNgtgE9aA4UE3L5riLJZ4UOmZMcnzjNotMuGrtTAyr0&dib_tag=se&keywords=shirts&qid=1730903119&sr=8-1-spons&sp_csd=d2lkZ2V0TmFtZT1zcF9hdGY&psc=1',\n",
        "    'https://www.amazon.com/SAMSUNG-Unlocked-Smartphone-Expandable-Security/dp/B0CN1QSH8Q/ref=sr_1_1?crid=1UXYQZICL837F&dib=eyJ2IjoiMSJ9.7dbrIkgT5KCfS1G5VGVIdiD_hEXCDgyjmW7sHAYWHUTZUblSUg_YNFccZhSzDxEvGAJ1igcjXla-TzZi0aCuuRR6ovLIgwEdJgJila3a2BJjtiZSF3twURFeDeyjKaLSZ5G2_xbWqd0kSVR6seVpfy708ZVWK8ZI8_-ptclfGCKQATTnbfUGq7KHy2Jg1sdYTH3yItzeptyJ_QQqzvt5HV35tYkdXZVnrV93S2q51g8ggbLg6V_UtqaxHEGgbSDpBBgEROb8pcup6UUyIdekOQsjj46g8aL6adqGnBt5pXM.FZfY8HItFh_nxqhSmOI4_U2GxulR50WINON5sazP41c&dib_tag=se&keywords=mobile&qid=1730903186&sprefix=shir%2Caps%2C2205&sr=8-1',\n",
        "    'https://www.amazon.com/A315-24P-R7VH-Display-Quad-Core-Processor-Graphics/dp/B0BS4BP8FB/ref=sr_1_1?crid=2AOM3U85ON9BK&dib=eyJ2IjoiMSJ9.WnCwPIi0Zynhmn3G6s93UMRz9X74ajs3mQv4rDlsqg2je38vp26naFJcNuKqeDSY6iLuIGYHiqYojU6Y2MpAHB2DAKMBvQKupp1bOyd6Thc-BkK4_qwyaWcRUnDBuEyGV8SJEdr6e3lioYBFGQIvjLpIvb3ajq81jYQtpjVxTj9HR1B1fk5e_YKvrsabu9ixo8yrYB-RFbmrIgOFxK3zTZ2N0RTNWx7ojAN1bbbLCFY.T_nyKsAAd4RWuxFKJCVH1mOo9hrAgvPUwm_k0K3Ay7s&dib_tag=se&keywords=laptops&qid=1730903233&sprefix=l%2Caps%2C3049&sr=8-1',\n",
        "    'https://www.amazon.com/Motorola-Unlocked-128GB-MPCamera-163-94x74-98x8-39/dp/B0C2SWQBMB/ref=sr_1_3?crid=1UXYQZICL837F&dib=eyJ2IjoiMSJ9.7dbrIkgT5KCfS1G5VGVIdiD_hEXCDgyjmW7sHAYWHUTZUblSUg_YNFccZhSzDxEvGAJ1igcjXla-TzZi0aCuuRR6ovLIgwEdJgJila3a2BJjtiZSF3twURFeDeyjKaLSZ5G2_xbWqd0kSVR6seVpfy708ZVWK8ZI8_-ptclfGCKQATTnbfUGq7KHy2Jg1sdYTH3yItzeptyJ_QQqzvt5HV35tYkdXZVnrV93S2q51g8ggbLg6V_UtqaxHEGgbSDpBBgEROb8pcup6UUyIdekOQsjj46g8aL6adqGnBt5pXM.FZfY8HItFh_nxqhSmOI4_U2GxulR50WINON5sazP41c&dib_tag=se&keywords=mobile&qid=1730903223&sprefix=shir%2Caps%2C2205&sr=8-3',\n",
        "    'https://www.amazon.com/dp/B09WVG8ZRB/ref=sspa_dk_detail_1?psc=1&pd_rd_i=B09WVG8ZRB&pd_rd_w=8K51M&content-id=amzn1.sym.be5cdf6a-f23a-4168-8100-e5595659876c&pf_rd_p=be5cdf6a-f23a-4168-8100-e5595659876c&pf_rd_r=GD17C8WCG8SF1WKAC0JQ&pd_rd_wg=0yISl&pd_rd_r=62a7bb3a-6057-40da-abae-3f0061caa929&s=apparel&sp_csd=d2lkZ2V0TmFtZT1zcF9kZXRhaWxfdGhlbWF0aWM',\n",
        "    'https://www.amazon.com/Sweaters-Sleeve-Sweater-Clothing-Knitted/dp/B0C7L24BLW/ref=sr_1_19_sspa?crid=5VSRKZ7Q5A5L&dib=eyJ2IjoiMSJ9.bcoEPbYRAKM9YYXEYfJ9xKNx69U0o52wDm5EUv5qlkVsIszE9M-l7tKl7IhJixIB99Q2vDjAOwaywZWQZksR8G7m0zrhXxdl9jDMOLckVCQ3IbS1448nKjIqNQ-WTPvrWO0-Q_l-fkGFX26DA79lye-gAzvK_0tM4Ov7uGxiNZdTnb4xHKOIDdZnfWKwGTg_5EbHwRxpRPYpiVn-8cN47Xz-VyhBQXysXcLmttE6YPu17AzpS_DNM5oRaFGr577rav2js6xxjSrtXe8MzYQKNmr45pF9yPe7-NJC0ht1gB8.g538QCwYKgPOx1pYVA0akP2b-zWoYhawBzYGDfUD2oA&dib_tag=se&keywords=tops&qid=1730904753&sprefix=top%2Caps%2C1524&sr=8-19-spons&sp_csd=d2lkZ2V0TmFtZT1zcF9tdGY&psc=1',\n",
        "    'https://www.amazon.com/Stationary-Envelopes-Stationery-Decorative-Letterhead/dp/B09CPGCXF5/ref=sxin_16_pa_sp_search_thematic_sspa?content-id=amzn1.sym.829312b6-a402-4757-86b0-609a4f2be917%3Aamzn1.sym.829312b6-a402-4757-86b0-609a4f2be917&cv_ct_cx=stationery+things&dib=eyJ2IjoiMSJ9.AMosesZ4u-pXkTWnuVc-5lMy_4MACpofRc2DQWWEa5AIWrJ7v1XBRiSn3b-F92M9.BRtk4S4J9xEWEzBVQl3YcmdeSC97h2l5Vr3IIzuC60g&dib_tag=se&keywords=stationery+things&pd_rd_i=B09CPGCXF5&pd_rd_r=8a510614-2772-458f-b4c6-3a3013a8b181&pd_rd_w=tAaTj&pd_rd_wg=u5YHW&pf_rd_p=829312b6-a402-4757-86b0-609a4f2be917&pf_rd_r=XKS8TKPA5MMWDWPJGQG9&qid=1730902967&sbo=RZvfv%2F%2FHxDF%2BO5021pAnSA%3D%3D&sr=1-1-7efdef4d-9875-47e1-927f-8c2c1c47ed49-spons&sp_csd=d2lkZ2V0TmFtZT1zcF9zZWFyY2hfdGhlbWF0aWM&psc=1'\n",
        "    'https://www.amazon.com/Compartments-Organizer-Aesthetic-Stationery-Essentials/dp/B0C7LRHQKP/ref=sr_1_56?dib=eyJ2IjoiMSJ9.CulHaaTLV62DbFBUqIjx4dp4D-q2VzaW-p7Bb57GsrD4f-dvLYDDUD_3R9PggsYCfwxQYTp1fE5EZNf7sAozQMVsGrl_RTPEaHwEWkeeNt2HjBGXIWp50wZKKQZdyMTu04bkTUbZjCOh-GcIqz88tgP9NBsoNXfYdF4uzJ_QoF50StBsWX6ptOCa9igL94bSzzFvtQ4ozLiIyM23QRzCtfGsoLnhy14G4divLqe-6Mssg4fSijaG2SfwzNRUVYy7f4MLf3mrpGzGwrHqxd1RFpzkWS4grj7F6IgAygq6jZw.CjN-f7aeLrhn45VHWsHR_EJgh8cKZBAD7RdPFChb720&dib_tag=se&keywords=stationery+things&qid=1730902967&sr=8-56'\n",
        "    'https://www.amazon.com/%E3%80%9080pack%E3%80%91Binder-Limque-Colored-Smiling-Assorted/dp/B08MDZNDXN/ref=sr_1_60?dib=eyJ2IjoiMSJ9.CulHaaTLV62DbFBUqIjx4dp4D-q2VzaW-p7Bb57GsrD4f-dvLYDDUD_3R9PggsYCfwxQYTp1fE5EZNf7sAozQMVsGrl_RTPEaHwEWkeeNt2HjBGXIWp50wZKKQZdyMTu04bkTUbZjCOh-GcIqz88tgP9NBsoNXfYdF4uzJ_QoF50StBsWX6ptOCa9igL94bSzzFvtQ4ozLiIyM23QRzCtfGsoLnhy14G4divLqe-6Mssg4fSijaG2SfwzNRUVYy7f4MLf3mrpGzGwrHqxd1RFpzkWS4grj7F6IgAygq6jZw.CjN-f7aeLrhn45VHWsHR_EJgh8cKZBAD7RdPFChb720&dib_tag=se&keywords=stationery+things&qid=1730902967&sr=8-60'\n",
        "    # Add more URLs here if needed\n",
        "]\n",
        "\n",
        "# Define headers to simulate a real user request\n",
        "headers = {\n",
        "    \"User-Agent\": \"Mozilla/5.0 (Windows NT 10.0; Win64; x64) AppleWebKit/537.36 (KHTML, like Gecko) Chrome/78.0.3904.108 Safari/537.36\",\n",
        "    \"Accept-Encoding\": \"gzip, deflate\",\n",
        "    \"Accept\": \"text/html,application/xhtml+xml,application/xml;q=0.9,*/*;q=0.8\",\n",
        "    \"DNT\": \"1\",\n",
        "    \"Connection\": \"close\",\n",
        "    \"Upgrade-Insecure-Requests\": \"1\"\n",
        "}\n",
        "\n",
        "# Define an empty list to store the data\n",
        "all_data = []\n",
        "\n",
        "# Loop through each URL and scrape data\n",
        "for url in urls:\n",
        "    # Send the request to fetch the webpage\n",
        "    page = requests.get(url, headers=headers)\n",
        "\n",
        "    # Parse the HTML content with BeautifulSoup\n",
        "    Soup1 = BeautifulSoup(page.content, \"html.parser\")\n",
        "    soup2 = BeautifulSoup(Soup1.prettify(), 'html.parser')\n",
        "\n",
        "    # Extract product title\n",
        "    title = soup2.find('span', {'id': 'productTitle'})\n",
        "    if title:\n",
        "        title = title.get_text().strip()\n",
        "    else:\n",
        "        title = 'Title not found'\n",
        "\n",
        "    # Extract product price\n",
        "    price = soup2.find('span', {'id': 'priceblock_ourprice'})\n",
        "    if not price:\n",
        "        price = soup2.find('span', {'id': 'priceblock_dealprice'})\n",
        "    if not price:\n",
        "        price = soup2.find('span', {'class': 'a-price-whole'})\n",
        "\n",
        "    if price:\n",
        "        price = price.get_text().strip()\n",
        "    else:\n",
        "        price = 'Price not found'\n",
        "\n",
        "    # Extract product rating\n",
        "    rating = soup2.find('span', {'class': 'a-icon-alt'})\n",
        "    if rating:\n",
        "        rating = rating.get_text().strip()\n",
        "    else:\n",
        "        rating = 'Rating not available'\n",
        "\n",
        "    # Extract product availability (in stock or out of stock)\n",
        "    availability = soup2.find('div', {'id': 'availability'})\n",
        "    if availability:\n",
        "        availability_text = availability.find('span')\n",
        "        if availability_text:\n",
        "            availability = availability_text.get_text().strip()\n",
        "        else:\n",
        "            availability = 'Availability not found'\n",
        "    else:\n",
        "        availability = 'Availability not found'\n",
        "\n",
        "    # Extract product description\n",
        "    description = soup2.find('div', {'id': 'productDescription'})\n",
        "    if description:\n",
        "        description = description.get_text().strip()\n",
        "    else:\n",
        "        description = 'Description not found'\n",
        "\n",
        "    # Extract product reviews\n",
        "    reviews = soup2.find('span', {'id': 'acrCustomerReviewText'})\n",
        "    if reviews:\n",
        "        reviews = reviews.get_text().strip()\n",
        "    else:\n",
        "        reviews = 'No reviews available'\n",
        "\n",
        "    # Store the data in a dictionary\n",
        "    data = {\n",
        "        'Title': title,\n",
        "        'Price': price,\n",
        "        'Rating': rating,\n",
        "        'Availability': availability,\n",
        "        'Description': description,\n",
        "        'Reviews': reviews\n",
        "    }\n",
        "\n",
        "    # Append the data dictionary to the all_data list\n",
        "    all_data.append(data)\n",
        "\n",
        "    # Add a random delay to avoid getting blocked\n",
        "    time.sleep(random.uniform(2, 5))  # Sleep between 2 to 5 seconds\n",
        "\n",
        "# Convert the list of dictionaries to a DataFrame\n",
        "df = pd.DataFrame(all_data)\n",
        "\n",
        "# Save the DataFrame to an Excel file\n",
        "df.to_excel('Amazon_product_data_with_reviews_and_description.xlsx', index=False)\n",
        "\n",
        "print(\"Data successfully saved to 'Amazon_product_data_with_reviews_and_description.xlsx'\")\n"
      ],
      "metadata": {
        "colab": {
          "base_uri": "https://localhost:8080/"
        },
        "id": "vpexG5rEqFGR",
        "outputId": "f6c640ea-630d-41da-c8d7-bb85129d30e3"
      },
      "execution_count": null,
      "outputs": [
        {
          "output_type": "stream",
          "name": "stdout",
          "text": [
            "Data successfully saved to 'Amazon_product_data_with_reviews_and_description.xlsx'\n"
          ]
        }
      ]
    }
  ]
}